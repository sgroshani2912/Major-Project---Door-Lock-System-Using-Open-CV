{
 "cells": [
  {
   "cell_type": "code",
   "execution_count": 2,
   "id": "09b2a506",
   "metadata": {},
   "outputs": [],
   "source": [
    "\n",
    "import firebase_admin\n",
    "from firebase_admin import credentials\n",
    "from firebase_admin import db\n",
    "\n",
    "cred = credentials.Certificate(\"serviceAccountKey.json\")\n",
    "firebase_admin.initialize_app(cred, {\n",
    "   'databaseURL' : \"https://doorlocksystem-ee9ff-default-rtdb.firebaseio.com/\"\n",
    "}) \n",
    "\n",
    "#Everytime you need to provide a different name to initialise the app\n",
    "\n",
    "ref = db.reference('Students')\n",
    "\n",
    "import json\n",
    "\n",
    "data = {\n",
    "    \"72138766H\":{\n",
    "        \"Name\" : \"Roshani\",\n",
    "        \"Department\" : \"ENTC\",\n",
    "        \"total_attendance\" : 0,\n",
    "        \"Last_entry_time\" : \"2023-04-13 23:44:00\"\n",
    "    },\n",
    "    \n",
    "    \"72138315H\":{\n",
    "        \"Name\" : \"Ameya Dhake\",\n",
    "        \"Department\" : \"IT\",\n",
    "        \"total_attendance\" : 0,\n",
    "        \"Last_entry_time\" : \"2023-04-13 23:44:00\"\n",
    "    },\n",
    "    \n",
    "    \"72138478B\":{\n",
    "        \"Name\" : \"Kaushik Shroff\",\n",
    "        \"Department\" : \"ENTC\",\n",
    "        \"total_attendance\" : 0,\n",
    "        \"Last_entry_time\" : \"2023-04-13 23:44:00\"\n",
    "\n",
    "    }\n",
    "}\n",
    "\n",
    "# This code is for realtime database in firebase\n",
    "for key,value in data.items():\n",
    "   ref.child(key).set(value)\n",
    "\n",
    "\n",
    "# The below code is for local data storage\n",
    "# def save_data_to_file(data):\n",
    "#     with open(\"data.json\", \"w\") as json_file:\n",
    "#         json.dump(data, json_file)\n",
    "        \n",
    "# save_data_to_file(data)        \n"
   ]
  },
  {
   "cell_type": "code",
   "execution_count": null,
   "id": "e7fe9ca1",
   "metadata": {},
   "outputs": [],
   "source": []
  }
 ],
 "metadata": {
  "kernelspec": {
   "display_name": "Python 3 (ipykernel)",
   "language": "python",
   "name": "python3"
  },
  "language_info": {
   "codemirror_mode": {
    "name": "ipython",
    "version": 3
   },
   "file_extension": ".py",
   "mimetype": "text/x-python",
   "name": "python",
   "nbconvert_exporter": "python",
   "pygments_lexer": "ipython3",
   "version": "3.10.7"
  }
 },
 "nbformat": 4,
 "nbformat_minor": 5
}
