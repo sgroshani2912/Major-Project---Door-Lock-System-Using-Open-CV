{
 "cells": [
  {
   "cell_type": "code",
   "execution_count": 1,
   "id": "3fb2d229",
   "metadata": {},
   "outputs": [
    {
     "name": "stdout",
     "output_type": "stream",
     "text": [
      "['72138315H', '72138478B', '72138766H']\n",
      "File saved\n"
     ]
    }
   ],
   "source": [
    "import cv2\n",
    "import face_recognition\n",
    "import pickle\n",
    "import os\n",
    "\n",
    "import firebase_admin\n",
    "from firebase_admin import credentials\n",
    "from firebase_admin import db\n",
    "from firebase_admin import storage\n",
    "\n",
    "cred = credentials.Certificate(\"serviceAccountKey.json\")\n",
    "firebase_admin.initialize_app(cred, {\n",
    "    'databaseURL' : \"https://doorlocksystem-ee9ff-default-rtdb.firebaseio.com/\",\n",
    "    'storageBucket' : \"doorlocksystem-ee9ff.appspot.com\"\n",
    "})\n",
    "\n",
    "# Importing the mode images to the list\n",
    "folderPath = 'Images'\n",
    "imgPathList = os.listdir(folderPath)\n",
    "\n",
    "#print(imgPathList)\n",
    "\n",
    "imgList = []\n",
    "studentIds = []\n",
    "for path in imgPathList:\n",
    "    imgList.append(cv2.imread(os.path.join(folderPath, path)))\n",
    "    \n",
    "    #print(path)\n",
    "    #print(os.path.splitext(path)[0])\n",
    "    \n",
    "    studentIds.append(os.path.splitext(path)[0])\n",
    "    \n",
    "    fileName = f'{folderPath}/{path}'\n",
    "    bucket = storage.bucket()\n",
    "    blob = bucket.blob(fileName)\n",
    "    blob.upload_from_filename(fileName)\n",
    "    \n",
    "#print(len(imgList))\n",
    "print(studentIds)\n",
    "\n",
    "\n",
    "def findEncodings(imagesList):\n",
    "    \n",
    "    encodeList = []\n",
    "    \n",
    "    for img in imagesList:\n",
    "        img = cv2.cvtColor(img,cv2.COLOR_BGR2RGB)\n",
    "        encode = face_recognition.face_encodings(img)[0]\n",
    "        encodeList.append(encode)\n",
    "        \n",
    "    return encodeList\n",
    "\n",
    "#print(\"Encoding Started...\")\n",
    "encodeListKnown = findEncodings(imgList)\n",
    "#print(encodeListKnown)\n",
    "#print(\"Encoding completed  \")\n",
    "\n",
    "encodeListKnownWithId = [encodeListKnown, studentIds]\n",
    "\n",
    "file = open(\"EncodeFile.p\",'wb')\n",
    "pickle.dump(encodeListKnownWithId, file)\n",
    "file.close()\n",
    "print(\"File saved\")"
   ]
  },
  {
   "cell_type": "code",
   "execution_count": null,
   "id": "c56e27ce",
   "metadata": {},
   "outputs": [],
   "source": []
  }
 ],
 "metadata": {
  "kernelspec": {
   "display_name": "Python 3 (ipykernel)",
   "language": "python",
   "name": "python3"
  },
  "language_info": {
   "codemirror_mode": {
    "name": "ipython",
    "version": 3
   },
   "file_extension": ".py",
   "mimetype": "text/x-python",
   "name": "python",
   "nbconvert_exporter": "python",
   "pygments_lexer": "ipython3",
   "version": "3.10.7"
  }
 },
 "nbformat": 4,
 "nbformat_minor": 5
}
